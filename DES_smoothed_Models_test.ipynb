{
 "cells": [
  {
   "cell_type": "code",
   "execution_count": null,
   "id": "7ef106e2",
   "metadata": {},
   "outputs": [],
   "source": [
    "import numpy as np\n",
    "import matplotlib.pyplot as plt"
   ]
  },
  {
   "cell_type": "code",
   "execution_count": 83,
   "id": "dca92d58",
   "metadata": {},
   "outputs": [],
   "source": [
    "# Loading Data \n",
    "\n",
    "k_bins = {}\n",
    "z_bins = {}\n",
    "\n",
    "max_val = float(1.001)\n",
    "min_val = float(0.999)\n",
    "\n",
    "for g_val in [max_val, min_val]:\n",
    "    g_key = f'{float(g_val * 1000) / 1000}'\n",
    "    for k in range(7):\n",
    "        k_bins[f'{g_key}_{k}'] = np.loadtxt(f'data/DES_oneXi_newSmoothing_Data/{g_val}kbin{k}.modelvector')\n",
    "\n",
    "for gnew_val in [max_val, min_val]:\n",
    "    gnew_key = f'{float(gnew_val * 1000) / 1000}'\n",
    "    for z in range(4):\n",
    "        z_bins[f'{gnew_key}_{z}'] = np.loadtxt(f'data/DES_oneXi_newSmoothing_Data/{gnew_key}zbin{z}.modelvector')"
   ]
  },
  {
   "cell_type": "code",
   "execution_count": 84,
   "id": "51d1cb58",
   "metadata": {},
   "outputs": [],
   "source": [
    "# Initialize lists for k and z bins\n",
    "k_lists = {f'k{i}_list': np.zeros(400) for i in range(7)}\n",
    "z_lists = {f'z{i}_list': np.zeros(400) for i in range(4)}\n",
    "\n",
    "denom = max_val - min_val\n",
    "\n",
    "# Populate k and z lists with calculations\n",
    "for i in range(400):\n",
    "    for k in range(7):\n",
    "        k_lists[f'k{k}_list'][i] = (k_bins[f'1.001_{k}'][i][1] - k_bins[f'0.999_{k}'][i][1]) / denom\n",
    "    for k in range(4):\n",
    "        z_lists[f'z{k}_list'][i] = (z_bins[f'1.001_{k}'][i][1] - z_bins[f'0.999_{k}'][i][1]) / denom\n",
    "\n",
    "# Initialize residuals for k and z bins\n",
    "resid_z = {f'resid_z{i}': np.zeros((400, 2)) for i in range(4)}\n",
    "resid_k = {f'resid_k{i}': np.zeros((400, 2)) for i in range(7)}\n",
    "\n",
    "# Calculate residuals\n",
    "for i in range(400):\n",
    "    for j in range(4):\n",
    "        resid_z[f'resid_z{j}'][i] = [i, (z_bins[f'1.001_{j}'][i][1] - z_bins[f'0.999_{j}'][i][1]) / z_bins[f'0.999_{j}'][i][1]]\n",
    "    for j in range(7):\n",
    "        resid_k[f'resid_k{j}'][i] = [i, (k_bins[f'1.001_{j}'][i][1] - k_bins[f'0.999_{j}'][i][1]) / k_bins[f'0.999_{j}'][i][1]]\n"
   ]
  },
  {
   "cell_type": "code",
   "execution_count": 85,
   "id": "886ca494",
   "metadata": {},
   "outputs": [],
   "source": [
    "residuals_list = [resid_k[f'resid_k{i}'] for i in range(7)] + [resid_z[f'resid_z{i}'] for i in range(4)]\n",
    "#residuals_list = [resid_z[f'resid_z{i}'] for i in range(7)]"
   ]
  },
  {
   "cell_type": "code",
   "execution_count": 86,
   "id": "cffa9d5b",
   "metadata": {},
   "outputs": [
    {
     "data": {
      "text/plain": [
       "array([[ 9.45650e-07,  8.69250e-07,  8.29850e-07, ...,  2.80845e-07,\n",
       "         4.24385e-07,  5.14315e-07],\n",
       "       [-5.13955e-06, -3.40705e-06, -1.95820e-06, ...,  8.95910e-07,\n",
       "         6.90140e-07,  4.42215e-07],\n",
       "       [ 6.54030e-06,  6.25780e-06,  5.96850e-06, ...,  4.10920e-07,\n",
       "         2.31510e-07,  1.26645e-07],\n",
       "       ...,\n",
       "       [ 1.17245e-06,  9.50800e-07,  7.62400e-07, ...,  7.03350e-07,\n",
       "         6.04360e-07,  5.09465e-07],\n",
       "       [ 2.19500e-08,  1.78000e-08,  1.45500e-08, ...,  4.39070e-07,\n",
       "         3.61755e-07,  2.90285e-07],\n",
       "       [ 1.12500e-08,  9.50000e-09,  8.05000e-09, ...,  1.32950e-07,\n",
       "         1.06145e-07,  7.76050e-08]])"
      ]
     },
     "execution_count": 86,
     "metadata": {},
     "output_type": "execute_result"
    }
   ],
   "source": [
    "derivatives = np.array([*k_lists.values(), *z_lists.values()])\n",
    "\n",
    "derivatives"
   ]
  },
  {
   "cell_type": "code",
   "execution_count": 87,
   "id": "5fbb75ef",
   "metadata": {},
   "outputs": [
    {
     "name": "stdout",
     "output_type": "stream",
     "text": [
      "Getting covariance...\n"
     ]
    }
   ],
   "source": [
    "def get_full_cov(cov_file):\n",
    "    print(\"Getting covariance...\")\n",
    "    full_cov = np.loadtxt(cov_file)\n",
    "    cov = np.zeros((output_dims, output_dims))\n",
    "    cov_scenario = full_cov.shape[1]\n",
    "    for line in full_cov:\n",
    "        i = int(line[0])\n",
    "        j = int(line[1])\n",
    "        if(cov_scenario==3):\n",
    "            cov_ij = line[2]\n",
    "        elif(cov_scenario==10):\n",
    "            cov_g_block  = line[8]\n",
    "            cov_ng_block = line[9]\n",
    "            cov_ij = cov_g_block + cov_ng_block\n",
    "        cov[i,j] = cov_ij\n",
    "        cov[j,i] = cov_ij\n",
    "    return cov\n",
    "#masked_inv_cov = np.linalg.inv(cov[mask][:,mask])\n",
    "\n",
    "#cov_file = \"data/COV2_Y1_mcal_v04.17_3column_rr\"\n",
    "\n",
    "cov_file = \"data/cov_unblinded_final.txt\" #correct covariance file cooresponding to the data\n",
    "\n",
    "output_dims = 900\n",
    "\n",
    "cov = get_full_cov(cov_file)\n",
    "\n",
    "cov_sub = cov[:400, :400]\n",
    "\n",
    "inv_cov_sub = np.linalg.inv(cov_sub)\n",
    "\n",
    "masked_inv_cov = np.linalg.inv(cov)\n",
    "\n",
    "masked_inv_cov = np.zeros((900, 900))\n",
    "\n",
    "masked_inv_cov[:400, :400] = inv_cov_sub\n",
    "masked_inv_cov = masked_inv_cov[:400, :400]"
   ]
  },
  {
   "cell_type": "code",
   "execution_count": 88,
   "id": "283b9469",
   "metadata": {},
   "outputs": [
    {
     "name": "stdout",
     "output_type": "stream",
     "text": [
      "Fisher Matrix:\n",
      " [[ 1.02669279e+02  8.04230514e+00  1.59821261e+01 -3.18246389e+01\n",
      "   2.87744678e+01 -6.12673116e-01  2.60012148e+01  1.01027610e+02\n",
      "   4.09534999e+01  1.24719004e+01  1.38566421e+00]\n",
      " [ 8.04230514e+00  2.59467865e+02  8.96908127e+01  7.11621314e+01\n",
      "  -4.60082367e+01 -2.72625054e+01 -9.70706792e+01 -1.48089314e+02\n",
      "   2.82959450e+01  5.78197814e+01  1.22257979e+01]\n",
      " [ 1.59821261e+01  8.96908127e+01  2.42285670e+02  1.55716199e+02\n",
      "   4.61092922e+01 -4.26311749e+01 -3.48918446e+01  3.64580507e+02\n",
      "   8.54028860e+01  4.41293029e+01  9.41345785e+00]\n",
      " [-3.18246389e+01  7.11621314e+01  1.55716199e+02  3.46462325e+02\n",
      "   1.31622090e+02  3.33980282e+01 -9.32376720e+01  3.42213700e+02\n",
      "   7.16186327e+01  5.47711498e+01  1.27365794e+01]\n",
      " [ 2.87744678e+01 -4.60082367e+01  4.61092922e+01  1.31622090e+02\n",
      "   3.41395597e+02  1.05113643e+02 -2.16246203e+01  4.95838895e+02\n",
      "   1.41240875e+02  5.54206544e+01  9.85656987e+00]\n",
      " [-6.12673116e-01 -2.72625054e+01 -4.26311749e+01  3.33980282e+01\n",
      "   1.05113643e+02  2.54056959e+02  6.86065335e+01  1.80754723e+02\n",
      "   9.44923244e+01  5.13904127e+01  1.02616289e+01]\n",
      " [ 2.60012148e+01 -9.70706792e+01 -3.48918446e+01 -9.32376720e+01\n",
      "  -2.16246203e+01  6.86065335e+01  2.59449940e+02  9.40766788e+01\n",
      "   1.09507990e+02  4.26982921e+01  7.37722199e+00]\n",
      " [ 1.01027610e+02 -1.48089314e+02  3.64580507e+02  3.42213700e+02\n",
      "   4.95838895e+02  1.80754723e+02  9.40766788e+01  1.89803735e+03\n",
      "   2.06077964e+02  3.40728215e+01  5.96394378e+00]\n",
      " [ 4.09534999e+01  2.82959450e+01  8.54028860e+01  7.16186327e+01\n",
      "   1.41240875e+02  9.44923244e+01  1.09507990e+02  2.06077964e+02\n",
      "   3.06252188e+02  1.40949685e+02  2.56326938e+01]\n",
      " [ 1.24719004e+01  5.78197814e+01  4.41293029e+01  5.47711498e+01\n",
      "   5.54206544e+01  5.13904127e+01  4.26982921e+01  3.40728215e+01\n",
      "   1.40949685e+02  8.29668274e+01  1.64799114e+01]\n",
      " [ 1.38566421e+00  1.22257979e+01  9.41345785e+00  1.27365794e+01\n",
      "   9.85656987e+00  1.02616289e+01  7.37722199e+00  5.96394378e+00\n",
      "   2.56326938e+01  1.64799114e+01  3.97992405e+00]]\n"
     ]
    }
   ],
   "source": [
    "num_params = derivatives.shape[0]\n",
    "fisher_matrix = np.zeros((num_params, num_params))\n",
    "\n",
    "# Construct the Fisher matrix\n",
    "for i in range(num_params):\n",
    "    for j in range(num_params):\n",
    "        fisher_matrix[i, j] = derivatives[i, :] @ masked_inv_cov @ derivatives[j, :]\n",
    "\n",
    "print(\"Fisher Matrix:\\n\", fisher_matrix)"
   ]
  },
  {
   "cell_type": "code",
   "execution_count": 89,
   "id": "432fb5ab",
   "metadata": {},
   "outputs": [
    {
     "name": "stdout",
     "output_type": "stream",
     "text": [
      "Eigenvalues:\n",
      " [2.26897464e+03 5.41883269e+02 4.72307403e+02 2.96082709e+02\n",
      " 1.82854819e+02 1.64607672e+02 7.11203014e+01 6.13849784e+01\n",
      " 3.26459750e+01 4.66029529e+00 5.01858612e-01]\n",
      "Eigenvectors:\n",
      " [[-4.72897047e-02 -6.75928175e-02 -4.99521195e-02  1.73842934e-01\n",
      "   3.57856530e-01 -2.32135723e-01 -7.68227979e-01  3.99396191e-01\n",
      "  -1.69740104e-01  4.33793013e-03 -2.82118146e-03]\n",
      " [ 5.75033973e-02  5.14966855e-01 -2.09537952e-01  1.94581292e-01\n",
      "   7.08290580e-02 -6.04880983e-01 -5.25379091e-02 -4.85361688e-01\n",
      "   1.08349550e-01 -1.67207442e-01 -2.83293508e-02]\n",
      " [-1.85393477e-01  3.87309746e-01 -1.60591570e-02  4.27684273e-01\n",
      "  -2.65763501e-02  7.29197667e-02  3.44089538e-01  3.13091421e-01\n",
      "  -6.37671243e-01 -5.80976238e-02 -1.13775899e-03]\n",
      " [-1.97371851e-01  5.23787846e-01 -1.08151138e-01 -2.63446734e-01\n",
      "  -4.69524634e-01  4.15792787e-01 -4.50928014e-01 -2.97343215e-02\n",
      "   1.87101165e-02 -8.72369905e-02 -8.49738003e-03]\n",
      " [-2.68867431e-01 -1.23614806e-02 -2.18725970e-01 -5.43577576e-01\n",
      "   5.37638751e-01  1.25272534e-01  5.04462314e-02 -3.11545950e-01\n",
      "  -4.13849387e-01 -9.17541581e-02 -1.39782216e-02]\n",
      " [-1.04204870e-01 -2.23799067e-01 -3.54682985e-01 -3.98472132e-01\n",
      "  -4.78942047e-01 -5.30681472e-01  9.65775394e-02  3.01336832e-01\n",
      "  -1.99078920e-01 -6.06531276e-02 -4.96262836e-03]\n",
      " [-4.24574212e-02 -4.87363622e-01 -2.71447951e-01  4.11971473e-01\n",
      "  -2.93265415e-01  1.67626048e-01 -2.16345718e-01 -4.88217846e-01\n",
      "  -3.12712092e-01 -1.40964871e-01 -1.85581252e-02]\n",
      " [-9.02705210e-01 -1.06201923e-01  2.59643531e-01  1.29878675e-01\n",
      "  -2.88562760e-02 -1.52936400e-01  2.36398479e-02 -6.68415306e-02\n",
      "   2.36016669e-01  6.73083241e-02  8.83655707e-03]\n",
      " [-1.39962282e-01 -1.79041257e-02 -6.87065733e-01  1.82968369e-01\n",
      "   2.00502547e-01  2.29209805e-01  1.61510122e-01  2.66029233e-01\n",
      "   4.33298509e-01 -3.04203267e-01 -6.83414416e-02]\n",
      " [-4.06844488e-02  7.82328655e-02 -3.86590563e-01  7.16231342e-02\n",
      "   1.47745418e-02  2.59204539e-02  3.15228279e-03 -6.48607162e-02\n",
      "   1.18778611e-02  8.43193851e-01  3.48451283e-01]\n",
      " [-7.63619809e-03  1.98968687e-02 -7.34347309e-02  1.20769230e-02\n",
      "  -8.03148904e-03  4.24231405e-03  2.09752758e-04 -1.81290097e-02\n",
      "  -1.37425007e-02  3.47883020e-01 -9.34015328e-01]]\n"
     ]
    }
   ],
   "source": [
    "eigenvalues, eigenvectors = np.linalg.eigh(fisher_matrix)\n",
    "\n",
    "# Sort the eigenvalues and eigenvectors in descending order\n",
    "idx = np.argsort(eigenvalues)[::-1]\n",
    "eigenvalues = eigenvalues[idx]\n",
    "eigenvectors = eigenvectors[:, idx]\n",
    "\n",
    "# Print the sorted eigenvalues and corresponding eigenvectors\n",
    "print(\"Eigenvalues:\\n\", eigenvalues)\n",
    "print(\"Eigenvectors:\\n\", eigenvectors)\n",
    "\n",
    "# Principal components are the eigenvectors\n",
    "principal_components = eigenvectors"
   ]
  },
  {
   "cell_type": "code",
   "execution_count": 90,
   "id": "c2e35450",
   "metadata": {},
   "outputs": [],
   "source": [
    "#estimation\n",
    "def chi_square(params):\n",
    "    csq = 0\n",
    "    for i in range(4):\n",
    "        csq += eigenvalues[i] * np.sum(params*eigenvectors[:,i]) ** 2\n",
    "    return csq"
   ]
  },
  {
   "cell_type": "code",
   "execution_count": 91,
   "id": "e2443f41",
   "metadata": {},
   "outputs": [],
   "source": [
    "sup_optimal_full = [0.01436,    0.04483578, 0.04161128, 0.05740327, 0.06850502, 0.0655324,\n",
    " 0.04208513, 0.0719795,  0.13827669, 0.07503881, 0.01437212]\n",
    "sup_optimal_z = sup_optimal_full[7:]"
   ]
  },
  {
   "cell_type": "code",
   "execution_count": 92,
   "id": "346eaa7a",
   "metadata": {},
   "outputs": [
    {
     "name": "stdout",
     "output_type": "stream",
     "text": [
      "[ 0.01 -0.01  0.01 -0.01  0.01 -0.01  0.01  0.01 -0.01  0.01 -0.01]\n"
     ]
    },
    {
     "data": {
      "text/plain": [
       "0.3822578715251944"
      ]
     },
     "execution_count": 92,
     "metadata": {},
     "output_type": "execute_result"
    }
   ],
   "source": [
    "#The test that wasn't lining up\n",
    "changed = np.array([0.01,-0.01,0.01,-0.01,0.01,-0.01,0.01,0.01,-0.01,0.01,-0.01])\n",
    "print(changed)\n",
    "chi_square(changed)"
   ]
  },
  {
   "cell_type": "code",
   "execution_count": 93,
   "id": "e375d09b",
   "metadata": {},
   "outputs": [
    {
     "data": {
      "text/plain": [
       "53.931147531540994"
      ]
     },
     "execution_count": 93,
     "metadata": {},
     "output_type": "execute_result"
    }
   ],
   "source": [
    "chi_square(sup_optimal_full)"
   ]
  },
  {
   "cell_type": "code",
   "execution_count": 94,
   "id": "607a3dc0",
   "metadata": {},
   "outputs": [],
   "source": [
    "alpha = np.array(sup_optimal_full)\n",
    "#beta model\n",
    "def beta_chi_square(beta):\n",
    "    csq = 0\n",
    "    alphaOne = np.array([0] * 7 + [0.1,0.3,0.5,0.7])\n",
    "    for i in range(7, 11):\n",
    "        alphaOne[i] = beta / (0.7 + 0.3 * (1+alphaOne[i])**3)\n",
    "    delta_alpha = alpha - alphaOne\n",
    "    for i in range(4):\n",
    "        csq += eigenvalues[i] * np.sum(delta_alpha*eigenvectors[:,i]) ** 2\n",
    "    return csq"
   ]
  },
  {
   "cell_type": "code",
   "execution_count": 95,
   "id": "8ed59f25",
   "metadata": {},
   "outputs": [
    {
     "name": "stdout",
     "output_type": "stream",
     "text": [
      "Optimal beta: [0.1478313]\n",
      "Minimum value of beta_chi_square: 5.540288473792911\n"
     ]
    }
   ],
   "source": [
    "#minimum beta model\n",
    "from scipy.optimize import minimize\n",
    "initial_guess = [0]\n",
    "\n",
    "result = minimize(beta_chi_square, initial_guess, method='L-BFGS-B')\n",
    "\n",
    "print(\"Optimal beta:\", result.x)\n",
    "print(\"Minimum value of beta_chi_square:\", result.fun)"
   ]
  },
  {
   "cell_type": "code",
   "execution_count": 96,
   "id": "ba0fef61",
   "metadata": {},
   "outputs": [
    {
     "data": {
      "image/png": "[encoded data removed]",
      "text/plain": [
       "<Figure size 1000x500 with 1 Axes>"
      ]
     },
     "metadata": {},
     "output_type": "display_data"
    }
   ],
   "source": [
    "labels = [f'kbin {i}' for i in range(7)] + [f'zbin {i}' for i in range(4)]\n",
    "# Create the plot\n",
    "plt.figure(figsize=(10, 5))\n",
    "plt.plot(sup_optimal_full, marker='o')\n",
    "plt.title('Modified PS')\n",
    "plt.xlabel('Index')\n",
    "plt.ylabel('Delta Alpha')\n",
    "plt.xticks(ticks=range(len(sup_optimal_full)), labels=labels)\n",
    "plt.grid(True)\n",
    "# Display the plot\n",
    "plt.show()"
   ]
  },
  {
   "cell_type": "markdown",
   "id": "c472e650",
   "metadata": {},
   "source": [
    "# One more try on optimal min with derivatives only coming from the z (this method only works if I rerun the original optimizer to get optimal over just z, so this is not consistent in what follows):"
   ]
  },
  {
   "cell_type": "code",
   "execution_count": 97,
   "id": "662cf8ee",
   "metadata": {},
   "outputs": [
    {
     "data": {
      "text/plain": [
       "array([[5.892985e-05, 5.027165e-05, 4.226595e-05, ..., 4.772400e-07,\n",
       "        3.847300e-07, 3.130600e-07],\n",
       "       [1.172450e-06, 9.508000e-07, 7.624000e-07, ..., 7.033500e-07,\n",
       "        6.043600e-07, 5.094650e-07],\n",
       "       [2.195000e-08, 1.780000e-08, 1.455000e-08, ..., 4.390700e-07,\n",
       "        3.617550e-07, 2.902850e-07],\n",
       "       [1.125000e-08, 9.500000e-09, 8.050000e-09, ..., 1.329500e-07,\n",
       "        1.061450e-07, 7.760500e-08]])"
      ]
     },
     "execution_count": 97,
     "metadata": {},
     "output_type": "execute_result"
    }
   ],
   "source": [
    "derivatives = np.array([ *z_lists.values()])\n",
    "\n",
    "derivatives"
   ]
  },
  {
   "cell_type": "code",
   "execution_count": 98,
   "id": "0b1e5514",
   "metadata": {},
   "outputs": [
    {
     "name": "stdout",
     "output_type": "stream",
     "text": [
      "Fisher Matrix:\n",
      " [[1898.03735128  206.07796423   34.07282148    5.96394378]\n",
      " [ 206.07796423  306.25218785  140.9496853    25.63269382]\n",
      " [  34.07282148  140.9496853    82.96682738   16.47991135]\n",
      " [   5.96394378   25.63269382   16.47991135    3.97992405]]\n"
     ]
    }
   ],
   "source": [
    "num_params = derivatives.shape[0]\n",
    "fisher_matrix = np.zeros((num_params, num_params))\n",
    "\n",
    "# Construct the Fisher matrix\n",
    "for i in range(num_params):\n",
    "    for j in range(num_params):\n",
    "        fisher_matrix[i, j] = derivatives[i, :] @ masked_inv_cov @ derivatives[j, :]\n",
    "\n",
    "print(\"Fisher Matrix:\\n\", fisher_matrix)"
   ]
  },
  {
   "cell_type": "code",
   "execution_count": 99,
   "id": "662f84b0",
   "metadata": {},
   "outputs": [
    {
     "name": "stdout",
     "output_type": "stream",
     "text": [
      "Eigenvalues:\n",
      " [1.92578693e+03 3.51157648e+02 1.37251603e+01 5.66549954e-01]\n",
      "Eigenvectors:\n",
      " [[-0.99127324 -0.12740413 -0.03370245 -0.00311415]\n",
      " [-0.12866995  0.87930971  0.45630414  0.04522187]\n",
      " [-0.0282146   0.45111209 -0.85065024 -0.26850694]\n",
      " [-0.00503434  0.08414576 -0.25893018  0.96221064]]\n"
     ]
    }
   ],
   "source": [
    "eigenvalues, eigenvectors = np.linalg.eigh(fisher_matrix)\n",
    "\n",
    "# Sort the eigenvalues and eigenvectors in descending order\n",
    "idx = np.argsort(eigenvalues)[::-1]\n",
    "eigenvalues = eigenvalues[idx]\n",
    "eigenvectors = eigenvectors[:, idx]\n",
    "\n",
    "# Print the sorted eigenvalues and corresponding eigenvectors\n",
    "print(\"Eigenvalues:\\n\", eigenvalues)\n",
    "print(\"Eigenvectors:\\n\", eigenvectors)\n",
    "\n",
    "# Principal components are the eigenvectors\n",
    "principal_components = eigenvectors"
   ]
  },
  {
   "cell_type": "code",
   "execution_count": 100,
   "id": "51b3ef99",
   "metadata": {},
   "outputs": [],
   "source": [
    "alpha = np.array(sup_optimal_z)\n",
    "\n",
    "def beta_chi_square(beta):\n",
    "    csq = 0\n",
    "    alphaOne = np.array([0.1,0.3,0.5,0.7])\n",
    "    for i in range(4):\n",
    "        alphaOne[i] = beta / (0.7 + 0.3 * (1+alphaOne[i])**3)\n",
    "    delta_alpha = alpha - alphaOne\n",
    "    for i in range(4):\n",
    "        csq += eigenvalues[i] * np.sum(delta_alpha*eigenvectors[:,i]) ** 2\n",
    "    return csq"
   ]
  },
  {
   "cell_type": "code",
   "execution_count": 101,
   "id": "3625f5d7",
   "metadata": {},
   "outputs": [
    {
     "name": "stdout",
     "output_type": "stream",
     "text": [
      "Optimal beta: [0.0994382]\n",
      "Minimum value of beta_chi_square: 1.6531206871222646\n"
     ]
    }
   ],
   "source": [
    "from scipy.optimize import minimize\n",
    "initial_guess = [0]\n",
    "\n",
    "result = minimize(beta_chi_square, initial_guess, method='L-BFGS-B')\n",
    "\n",
    "print(\"Optimal beta:\", result.x)\n",
    "print(\"Minimum value of beta_chi_square:\", result.fun)"
   ]
  },
  {
   "cell_type": "code",
   "execution_count": null,
   "id": "8ad05338",
   "metadata": {},
   "outputs": [],
   "source": []
  },
  {
   "cell_type": "code",
   "execution_count": null,
   "id": "4bc12cf0",
   "metadata": {},
   "outputs": [],
   "source": []
  }
 ],
 "metadata": {
  "kernelspec": {
   "display_name": "Python 3 (ipykernel)",
   "language": "python",
   "name": "python3"
  },
  "language_info": {
   "codemirror_mode": {
    "name": "ipython",
    "version": 3
   },
   "file_extension": ".py",
   "mimetype": "text/x-python",
   "name": "python",
   "nbconvert_exporter": "python",
   "pygments_lexer": "ipython3",
   "version": "3.10.4"
  }
 },
 "nbformat": 4,
 "nbformat_minor": 5
}
